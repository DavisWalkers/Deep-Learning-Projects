{
 "cells": [
  {
   "cell_type": "code",
   "execution_count": 21,
   "metadata": {},
   "outputs": [],
   "source": [
    "import numpy as np\n",
    "\n",
    "np.random.seed(1)"
   ]
  },
  {
   "cell_type": "code",
   "execution_count": 22,
   "metadata": {},
   "outputs": [],
   "source": [
    "def relu(x):\n",
    "    return (x > 0) * x\n",
    "\n",
    "\n",
    "def relu2deriv(output):\n",
    "    return output > 0"
   ]
  },
  {
   "cell_type": "code",
   "execution_count": 23,
   "metadata": {},
   "outputs": [],
   "source": [
    "streetlights = np.array([\n",
    "    [1, 0, 1],\n",
    "    [0, 1, 1],\n",
    "    [0, 0, 1],\n",
    "    [1, 1, 1]\n",
    "])\n",
    "\n",
    "walk_vs_stop = np.array([1, 1, 0, 0]).T\n",
    "\n",
    "alpha = 0.2\n",
    "hidden_size = 4\n",
    "\n",
    "weights_0_1 = 2*np.random.random((3, hidden_size)) - 1\n",
    "weights_1_2 = 2*np.random.random((hidden_size, 1)) - 1"
   ]
  },
  {
   "cell_type": "code",
   "execution_count": 24,
   "metadata": {},
   "outputs": [
    {
     "name": "stdout",
     "output_type": "stream",
     "text": [
      "Iteration: 0 Error: 0.0\n",
      "Iteration: 10 Error: 0.07710452429266079\n",
      "Iteration: 20 Error: 0.03764561420363532\n",
      "Iteration: 30 Error: 0.002405811235989023\n",
      "Iteration: 40 Error: 9.222743383310113e-06\n",
      "Iteration: 50 Error: 0.0\n",
      "Iteration: 60 Error: 0.0\n"
     ]
    }
   ],
   "source": [
    "for iteration in range(60):\n",
    "    layer_2_error = 0\n",
    "    for i in range(len(streetlights)):\n",
    "        layer_0 = streetlights[i:i+1] # layer_1 size 1x3 \n",
    "        layer_1 = relu(np.dot(layer_0, weights_0_1)) # layer_1 size 1x4\n",
    "        layer_2 = np.dot(layer_1, weights_1_2) # layer_2 size 1x1\n",
    "        \n",
    "        layer_2_error = np.sum((layer_2 - walk_vs_stop[i:i+1]) ** 2) # l_2_error size 4x1\n",
    "        \n",
    "        layer_2_delta = (layer_2 - walk_vs_stop[i:i+1]) # l_2_delta size 4x1\n",
    "        layer_1_delta = layer_2_delta.dot(weights_1_2.T) * relu2deriv(layer_1) # l_1_delta size 4x4\n",
    "        \n",
    "        weights_1_2 -= alpha * layer_1.T.dot(layer_2_delta) # RHS size 1x1\n",
    "        weights_0_1 -= alpha * layer_0.T.dot(layer_1_delta) # RHS size 3x4\n",
    "        \n",
    "    if (iteration % 10 == 9):\n",
    "        print('Iteration: ' + str(iteration), 'Error: ' + str(layer_2_error))"
   ]
  },
  {
   "cell_type": "code",
   "execution_count": null,
   "metadata": {},
   "outputs": [],
   "source": []
  }
 ],
 "metadata": {
  "kernelspec": {
   "display_name": "Python 3",
   "language": "python",
   "name": "python3"
  },
  "language_info": {
   "codemirror_mode": {
    "name": "ipython",
    "version": 3
   },
   "file_extension": ".py",
   "mimetype": "text/x-python",
   "name": "python",
   "nbconvert_exporter": "python",
   "pygments_lexer": "ipython3",
   "version": "3.8.3"
  }
 },
 "nbformat": 4,
 "nbformat_minor": 4
}
