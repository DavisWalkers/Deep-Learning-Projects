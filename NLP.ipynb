{
 "cells": [
  {
   "cell_type": "markdown",
   "metadata": {},
   "source": [
    "# Word to Vector"
   ]
  },
  {
   "cell_type": "code",
   "execution_count": 25,
   "metadata": {},
   "outputs": [],
   "source": [
    "import sys\n",
    "\n",
    "f = open('reviews.txt')\n",
    "raw_reviews = f.readlines()\n",
    "f.close()\n",
    "\n",
    "f = open('labels.txt')\n",
    "raw_labels = f.readlines()\n",
    "f.close()\n",
    "\n",
    "tokens = list(map(lambda x: set(x.split(\" \")), raw_reviews))\n",
    "\n",
    "vocab = set()\n",
    "for sent in tokens:\n",
    "    for word in sent:\n",
    "        if (len(word) > 0):\n",
    "            vocab.add(word)\n",
    "vocab = list(vocab)\n",
    "\n",
    "word2index = {}\n",
    "for i, word in enumerate(vocab):\n",
    "    word2index[word] = i\n",
    "\n",
    "input_dataset = list()\n",
    "for sent in tokens:\n",
    "    sent_indices = list()\n",
    "    for word in sent:\n",
    "        try:\n",
    "            sent_indices.append(word2index[word])\n",
    "        except:\n",
    "            \"\"\n",
    "    input_dataset.append(list(set(sent_indices)))\n",
    "    \n",
    "target_dataset = list()\n",
    "for label in raw_labels:\n",
    "    if label == 'positive\\n':\n",
    "        target_dataset.append(1)\n",
    "    else:\n",
    "        target_dataset.append(0)"
   ]
  },
  {
   "cell_type": "markdown",
   "metadata": {},
   "source": [
    "# Identify positive / negative review"
   ]
  },
  {
   "cell_type": "code",
   "execution_count": 12,
   "metadata": {},
   "outputs": [
    {
     "name": "stdout",
     "output_type": "stream",
     "text": [
      "Iter: 0 Progress: 95.99% Training Accuracy: 0.8335%39641517298%%\n",
      "Test Accuracy: 0.847\n",
      "Iter: 1 Progress: 95.99% Training Accuracy: 0.89748%0076030413%\n",
      "Test Accuracy: 0.848\n"
     ]
    }
   ],
   "source": [
    "import numpy as np\n",
    "np.random.seed(1)\n",
    "\n",
    "def sigmoid(x):\n",
    "    return 1 / (1 + np.exp(-x))\n",
    "\n",
    "alpha, iterations = (0.01, 2)\n",
    "hidden_size = 100\n",
    "\n",
    "weights_0_1 = 0.2 * np.random.random((len(vocab), hidden_size)) - 0.1\n",
    "weights_1_2 = 0.2 * np.random.random((hidden_size, 1)) - 0.1\n",
    "\n",
    "correct, total = (0, 0)\n",
    "for iter in range(iterations):\n",
    "    \n",
    "    for i in range(len(input_dataset) - 1000):\n",
    "        x, y = (input_dataset[i], target_dataset[i])\n",
    "        layer_1 = sigmoid(np.sum(weights_0_1[x], axis=0))\n",
    "        layer_2 = sigmoid(np.dot(layer_1, weights_1_2))\n",
    "        \n",
    "        layer_2_delta = layer_2 - y\n",
    "        layer_1_delta = layer_2_delta.dot(weights_1_2.T)\n",
    "        \n",
    "        weights_0_1[x] -= layer_1_delta * alpha\n",
    "        weights_1_2 -= np.outer(layer_1, layer_2_delta) * alpha\n",
    "        \n",
    "        if (np.abs(layer_2_delta) < 0.5):\n",
    "            correct += 1\n",
    "        total += 1\n",
    "        if (i % 10 == 9):\n",
    "            progress = str(i/float(len(input_dataset)))\n",
    "            sys.stdout.write('\\rIter: ' + str(iter)\\\n",
    "                            +' Progress: ' + progress[2:4]\\\n",
    "                            + '.' + progress[4:6]\\\n",
    "                            + '% Training Accuracy: '\\\n",
    "                            + str(correct/float(total)) + '%')\n",
    "#             print()\n",
    "            \n",
    "    correct, total = (0, 0)\n",
    "    for i in range(len(input_dataset) - 1000, len(input_dataset)):\n",
    "        \n",
    "        x = input_dataset[i]\n",
    "        y = target_dataset[i]\n",
    "        \n",
    "        layer_1 = sigmoid(np.sum(weights_0_1[x], axis=0))\n",
    "        layer_2 = sigmoid(np.dot(layer_1, weights_1_2))\n",
    "        \n",
    "        if (np.abs(layer_2 - y) < 0.5):\n",
    "            correct += 1\n",
    "        total += 1\n",
    "        \n",
    "    print(\"\\nTest Accuracy: \" + str(correct / float(total)))"
   ]
  },
  {
   "cell_type": "code",
   "execution_count": 22,
   "metadata": {},
   "outputs": [],
   "source": [
    "from collections import Counter\n",
    "import math\n",
    "\n",
    "def similar(target='beautiful'):\n",
    "    target_index = word2index[target]\n",
    "    scores = Counter()\n",
    "    for word, index in word2index.items():\n",
    "        raw_difference = weights_0_1[index] \\\n",
    "                        - (weights_0_1[target_index])\n",
    "        squared_difference = raw_difference * raw_difference\n",
    "        scores[word] = -math.sqrt(sum(squared_difference))\n",
    "    \n",
    "    return scores.most_common(10)"
   ]
  },
  {
   "cell_type": "code",
   "execution_count": 23,
   "metadata": {},
   "outputs": [
    {
     "name": "stdout",
     "output_type": "stream",
     "text": [
      "[('beautiful', -0.0), ('recommended', -0.7500406716847221), ('surprisingly', -0.7585962884800961), ('genius', -0.7621018567811624), ('sweet', -0.7657713593527669), ('performances', -0.7714181808402989), ('finest', -0.7776045774289513), ('friendship', -0.7785043258498116), ('innocent', -0.7873230289773757), ('beauty', -0.7883548899694895)]\n"
     ]
    }
   ],
   "source": [
    "print(similar('beautiful'))"
   ]
  },
  {
   "cell_type": "code",
   "execution_count": 24,
   "metadata": {},
   "outputs": [
    {
     "name": "stdout",
     "output_type": "stream",
     "text": [
      "[('terrible', -0.0), ('poor', -0.7718187711519647), ('fails', -0.7861257960111084), ('horrible', -0.7952374836369098), ('save', -0.8043775836192308), ('worse', -0.8168998266390466), ('dull', -0.8172667810917823), ('boring', -0.8186040576439032), ('mess', -0.8289911307476302), ('annoying', -0.8291887883487581)]\n"
     ]
    }
   ],
   "source": [
    "print(similar('terrible'))"
   ]
  },
  {
   "cell_type": "markdown",
   "metadata": {},
   "source": [
    "# Append missing word"
   ]
  },
  {
   "cell_type": "code",
   "execution_count": 36,
   "metadata": {},
   "outputs": [
    {
     "name": "stdout",
     "output_type": "stream",
     "text": [
      "Progress:0.99998('terrible', -0.0), ('horrible', -3.053567342300262), ('brilliant', -3.232541598557306), ('superb', -3.641844707742084), ('phenomenal', -3.7770081359183028), ('pathetic', -3.8106285440632), ('mediocre', -3.8268078033307433), ('masterful', -3.965156453620492), ('terrific', -4.044147302525793), ('marvelous', -4.086776091184065)]0168188)]433)]][('terrible', -0.0), ('horrible', -3.044942614735214), ('brilliant', -3.5174019045541294), ('pathetic', -3.7829941486197267), ('mediocre', -3.8769310772091465), ('phenomenal', -3.883798531232351), ('superb', -3.911200876453739), ('bad', -4.010693720892296), ('masterful', -4.088799018018154), ('dreadful', -4.182583168971443)]\n"
     ]
    }
   ],
   "source": [
    "import sys, random, math\n",
    "from collections import Counter\n",
    "import numpy as np\n",
    "\n",
    "np.random.seed(1)\n",
    "random.seed(1)\n",
    "\n",
    "f = open('reviews.txt')\n",
    "raw_reviews = f.readlines()\n",
    "f.close()\n",
    "\n",
    "tokens = list(map(lambda x: (x.split(\" \")), raw_reviews))\n",
    "wordcnt = Counter()\n",
    "for sent in tokens:\n",
    "    for word in sent:\n",
    "        wordcnt[word] += 1\n",
    "vocab = list(set(map(lambda x:x[0], wordcnt.most_common())))\n",
    "\n",
    "word2index = {}\n",
    "for i, word in enumerate(vocab):\n",
    "    word2index[word] = i\n",
    "    \n",
    "concatenated = list()\n",
    "input_dataset = list()\n",
    "for sent in tokens:\n",
    "    sent_indices = list()\n",
    "    for word in sent:\n",
    "        try:\n",
    "            sent_indices.append(word2index[word])\n",
    "            concatenated.append(word2index[word])\n",
    "        except:\n",
    "            \"\"\n",
    "    input_dataset.append(sent_indices)\n",
    "concatenated = np.array(concatenated)\n",
    "\n",
    "random.shuffle(input_dataset)\n",
    "alpha, iterations = (0.05, 2)\n",
    "hidden_size, window, negative = (50, 2, 5)\n",
    "\n",
    "weights_0_1 = (np.random.rand(len(vocab), hidden_size) - 0.5) * 0.2\n",
    "weights_1_2 = np.random.rand(len(vocab), hidden_size) * 0\n",
    "\n",
    "layer_2_target = np.zeros(negative + 1)\n",
    "layer_2_target[0] = 1\n",
    "\n",
    "def similar(target='beautiful'):\n",
    "    target_index = word2index[target]\n",
    "    scores = Counter()\n",
    "    for word, index in word2index.items():\n",
    "        raw_difference = weights_0_1[index] \\\n",
    "                        - (weights_0_1[target_index])\n",
    "        squared_difference = raw_difference * raw_difference\n",
    "        scores[word] = -math.sqrt(sum(squared_difference))\n",
    "    \n",
    "    return scores.most_common(10)\n",
    "\n",
    "def sigmoid(x):\n",
    "    return 1 / (1 + np.exp(-x))\n",
    "\n",
    "for rev_i, review in enumerate(input_dataset * iterations):\n",
    "    for target_i in range(len(review)):\n",
    "        \n",
    "        target_samples = [review[target_i]] + list(concatenated\\\n",
    "        [(np.random.rand(negative) * len(concatenated)).astype('int').tolist()])\n",
    "        \n",
    "        left_context = review[max(0, target_i-window):target_i]\n",
    "        right_context = review[target_i+1:min(len(review), target_i+window)]\n",
    "        \n",
    "        layer_1 = np.mean(weights_0_1[left_context+right_context], axis=0)\n",
    "        layer_2 = sigmoid(layer_1.dot(weights_1_2[target_samples].T))\n",
    "        layer_2_delta = layer_2 - layer_2_target\n",
    "        layer_1_delta = layer_2_delta.dot(weights_1_2[target_samples])\n",
    "        \n",
    "        weights_0_1[left_context+right_context] -= layer_1_delta * alpha\n",
    "        weights_1_2[target_samples] -= np.outer(layer_2_delta, layer_1) * alpha\n",
    "    \n",
    "    if (rev_i % 250 == 0):\n",
    "        sys.stdout.write('\\rProgress:'+str(rev_i/float(len(input_dataset)\n",
    "                        *iterations)) + \" \" + str(similar('terrible')))\n",
    "    sys.stdout.write('\\rProgress:'+str(rev_i/float(len(input_dataset)\n",
    "                                                 *iterations)))\n",
    "    \n",
    "\n",
    "print(similar('terrible'))"
   ]
  },
  {
   "cell_type": "markdown",
   "metadata": {},
   "source": [
    "# Analogy"
   ]
  },
  {
   "cell_type": "code",
   "execution_count": 40,
   "metadata": {},
   "outputs": [],
   "source": [
    "def analogy(positive=['terrible', 'good'], negative=['bad']):\n",
    "    norms = np.sum(weights_0_1 * weights_0_1, axis=1)\n",
    "    norms.resize(norms.shape[0], 1)\n",
    "    \n",
    "    normed_weights = weights_0_1 * norms\n",
    "    \n",
    "    query_vect = np.zeros(len(weights_0_1[0]))\n",
    "    for word in positive:\n",
    "        query_vect += normed_weights[word2index[word]]\n",
    "    for word in negative:\n",
    "        query_vect -= normed_weights[word2index[word]]\n",
    "        \n",
    "    scores = Counter()\n",
    "    for word, index in word2index.items():\n",
    "        raw_difference = weights_0_1[index] - query_vect\n",
    "        squared_difference = raw_difference * raw_difference\n",
    "        scores[word] = -math.sqrt(sum(squared_difference))\n",
    "        \n",
    "    return scores.most_common(10)[1:]"
   ]
  },
  {
   "cell_type": "code",
   "execution_count": 41,
   "metadata": {},
   "outputs": [
    {
     "data": {
      "text/plain": [
       "[('superb', -224.61756194552135),\n",
       " ('terrific', -224.89530234475765),\n",
       " ('decent', -224.95292457087893),\n",
       " ('fine', -225.14567733198368),\n",
       " ('worth', -225.3643043381763),\n",
       " ('nice', -225.38382255366986),\n",
       " ('perfect', -225.41542779142944),\n",
       " ('terrible', -225.58859216073884),\n",
       " ('great', -225.58923211623184)]"
      ]
     },
     "execution_count": 41,
     "metadata": {},
     "output_type": "execute_result"
    }
   ],
   "source": [
    "analogy()"
   ]
  },
  {
   "cell_type": "code",
   "execution_count": null,
   "metadata": {},
   "outputs": [],
   "source": []
  }
 ],
 "metadata": {
  "kernelspec": {
   "display_name": "Python 3",
   "language": "python",
   "name": "python3"
  },
  "language_info": {
   "codemirror_mode": {
    "name": "ipython",
    "version": 3
   },
   "file_extension": ".py",
   "mimetype": "text/x-python",
   "name": "python",
   "nbconvert_exporter": "python",
   "pygments_lexer": "ipython3",
   "version": "3.8.3"
  }
 },
 "nbformat": 4,
 "nbformat_minor": 4
}
